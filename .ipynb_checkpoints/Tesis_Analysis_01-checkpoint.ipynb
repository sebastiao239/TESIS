{
 "cells": [
  {
   "cell_type": "code",
   "execution_count": 1,
   "metadata": {},
   "outputs": [],
   "source": [
    "using LinearAlgebra  #####Son las paqueterias que uso, para instalar una paqueteria basta colocar Pkg.add(\"Nombre_de_la_paqueteria\")\n",
    "using Plots\n",
    "using SpecialFunctions: gamma\n",
    "using Random, Distributions"
   ]
  },
  {
   "cell_type": "code",
   "execution_count": 2,
   "metadata": {},
   "outputs": [
    {
     "data": {
      "text/plain": [
       "OUH (generic function with 2 methods)"
      ]
     },
     "execution_count": 2,
     "metadata": {},
     "output_type": "execute_result"
    }
   ],
   "source": [
    "function OUH(x0::Float64,γ::Float64,t::AbstractArray,cte::Float64=0.0) #Proceso de Ornstein–Uhlenbeck\n",
    "    x=Vector{Float64}(undef, length(t)) #Definimos un vector lleno de basura para luego sobre escribir en el \n",
    "    x[1]=x0    #La primera entrada es la condicion inicial del Proceso de Ornstein–Uhlenbeck\n",
    "    \n",
    "    for i=1:length(t)                 #Usamos un for para poder hacer el proceso\n",
    "        x0=x0-(x0*γ)+randn()+cte*γ # Es el proceso de Ornstein–Uhlenbeck que depende del paso anterior \n",
    "        @inbounds x[1+i]=x0                 #@inbounds ignora si la lista tiene el tamaño adecuado y sobreescribimos en la lista basura\n",
    "    end\n",
    "    return x                          # Devolvemos la caminata de Ornstein–Uhlenbeck\n",
    "end"
   ]
  },
  {
   "cell_type": "code",
   "execution_count": 3,
   "metadata": {},
   "outputs": [
    {
     "data": {
      "text/plain": [
       "eigen2 (generic function with 2 methods)"
      ]
     },
     "execution_count": 3,
     "metadata": {},
     "output_type": "execute_result"
    }
   ],
   "source": [
    "function eigen2(n::Int64,K::Array{Float64,1},Δt::Float64) #Obtenemos los eigenvalores y eigenvectores \n",
    "    R=diagm(0 =>ones(2))                                #Hacemos una matriz llena de unos en la diagonal de dimension 2\n",
    "    for i=1:n                                           #Hacemos un for donde n es la cantidad de pasos de t, pasos de tiempo\n",
    "       R=(diagm(0 => ones(2))+diagm(1 => [K[i]]*Δt,-1 => -[K[i]]*Δt)+(0.5*diagm(1 => [K[i]]*Δt,-1 => -[K[i]]*Δt)^2))*R #Hacemos los pasos de multiplicar la matriz por la matriz anterior \n",
    "    end\n",
    "    eigen(R)#Obtenemos el eigenvalor y eigenvector\n",
    "end\n",
    "\n",
    "function eigen2(n::Int64,K::Array{Float64,1},T::Array{Float64,1},Δt::Float64) \n",
    "    R=diagm(0 =>ones(3)) #Hacemos una matriz llena de unos en la diagonal de dimension 2\n",
    "    for i=1:n            #Hacemos un for donde n es la cantidad de pasos de t, pasos de tiempo\n",
    "       R=(diagm(0 => ones(3))+diagm(1 => [K[i],T[i]]*Δt,-1 => -[K[i],T[i]]*Δt)+(0.5*diagm(1 => [K[i],T[i]]*Δt,-1 => -[K[i],T[i]]*Δt)^2))*R #Hacemos los pasos de multiplicar la matriz por la matriz anterior \n",
    "    end\n",
    "    eigen(R) #Obtenemos el eigenvalor y eigenvector\n",
    "end"
   ]
  },
  {
   "cell_type": "code",
   "execution_count": 4,
   "metadata": {},
   "outputs": [
    {
     "data": {
      "text/plain": [
       "lam_eigenvals (generic function with 2 methods)"
      ]
     },
     "execution_count": 4,
     "metadata": {},
     "output_type": "execute_result"
    }
   ],
   "source": [
    "function lam_eigenvals(γ::Float64,Δt::Float64,t::AbstractArray,tiradas::Int64,k0::Float64) #Da una lista de eigenvalores de todas las tiradas\n",
    "    λ=Vector{Complex{Float64}}(undef,2*tiradas) #Nos hace una lista llena de basura para renombrar sus valores\n",
    "    for i=1:tiradas             #Un for con la cantidad de tiradas\n",
    "        K=OUH(k0,γ,t,Δt)        #Usamos el proceso de Ornstein–Uhlenbeck para cada tirada\n",
    "        a=eigen2(length(t),K,Δt).values #Obtenemos los eigenvalores de cada tirada\n",
    "        @inbounds λ[2*i-1]=a[1] #Reescribirmos la basura con los eigenvalores\n",
    "        @inbounds λ[2*i-0]=a[2] #Reescribirmos la basura con los eigenvalores\n",
    "    end\n",
    "    return λ   #Devolvemos la lista de eigenvalores\n",
    "end\n",
    "\n",
    "function lam_eigenvals(γ::Float64,Δt::Float64,t::AbstractArray,tiradas::Int64,k0::Float64,t0::Float64)\n",
    "    λ=Vector{Complex{Float64}}(undef,3*tiradas) #Nos hace una lista llena de basura para renombrar sus valores\n",
    "    for i=1:tiradas #Un for con la cantidad de tiradas\n",
    "        K=OUH(k0,γ,t,Δt) #Usamos el proceso de Ornstein–Uhlenbeck para cada tirada\n",
    "        T=OUH(t0,γ,t,Δt) #Usamos el proceso de Ornstein–Uhlenbeck para cada tirada\n",
    "        a=eigen2(length(t),K,T,Δt).values #Obtenemos los eigenvalores de cada tirada\n",
    "        @inbounds λ[3*i-2]=a[1] #Reescribirmos la basura con los eigenvalores\n",
    "        @inbounds λ[3*i-1]=a[2] #Reescribirmos la basura con los eigenvalores\n",
    "        @inbounds λ[3*i-0]=a[3] #Reescribirmos la basura con los eigenvalores\n",
    "    end\n",
    "    return λ\n",
    "end"
   ]
  },
  {
   "cell_type": "code",
   "execution_count": 17,
   "metadata": {},
   "outputs": [
    {
     "data": {
      "text/plain": [
       "lam_eigenvals_R (generic function with 1 method)"
      ]
     },
     "execution_count": 17,
     "metadata": {},
     "output_type": "execute_result"
    }
   ],
   "source": [
    "function lam_eigenvals_C(λ::Array{Complex{Float64},1})\n",
    "    λr=Complex{Float64}[]\n",
    "    for i=1:length(λ)\n",
    "        if imag(λ[i]) != 0\n",
    "            push!(λr,λ[i])\n",
    "        end\n",
    "    end\n",
    "    return λr\n",
    "end\n",
    "function lam_eigenvals_R(λ::Array{Complex{Float64},1})\n",
    "    λr=Float64[]\n",
    "    for i=1:length(λ)\n",
    "        if imag(λ[i]) == 0\n",
    "            push!(λr,λ[i])\n",
    "        end\n",
    "    end\n",
    "    return λr\n",
    "end"
   ]
  },
  {
   "cell_type": "code",
   "execution_count": null,
   "metadata": {},
   "outputs": [],
   "source": []
  },
  {
   "cell_type": "code",
   "execution_count": 6,
   "metadata": {
    "scrolled": false
   },
   "outputs": [
    {
     "data": {
      "text/plain": [
       "101"
      ]
     },
     "execution_count": 6,
     "metadata": {},
     "output_type": "execute_result"
    }
   ],
   "source": [
    "γ=1e0\n",
    "tiradas=500\n",
    "k0=0.0\n",
    "t0=k0\n",
    "Δt=0.001\n",
    "N=1000.0\n",
    "t=0:Δt:N\n",
    "Δs=Δt\n",
    "step=10000 #Para animar\n",
    "\n",
    "cte=0.0\n",
    "plot(t,OUH(k0,γ,t,Δt),legend=false,ylims=(-100,100))\n",
    "plot!(t,ones(length(t))*cte)\n",
    "\n",
    "length(1:step:length(t))"
   ]
  },
  {
   "cell_type": "code",
   "execution_count": 7,
   "metadata": {},
   "outputs": [
    {
     "name": "stdout",
     "output_type": "stream",
     "text": [
      "1827.253384 seconds (25.51 G allocations: 1.219 TiB, 8.29% gc time)\n"
     ]
    }
   ],
   "source": [
    "@time λ_2=lam_eigenvals(γ,Δt,t,tiradas,k0);\n"
   ]
  },
  {
   "cell_type": "code",
   "execution_count": 8,
   "metadata": {},
   "outputs": [
    {
     "name": "stdout",
     "output_type": "stream",
     "text": [
      "1936.381047 seconds (31.50 G allocations: 1.470 TiB, 7.66% gc time)\n"
     ]
    }
   ],
   "source": [
    "@time λ_3=lam_eigenvals(γ,Δt,t,tiradas,k0,t0);"
   ]
  },
  {
   "cell_type": "code",
   "execution_count": 18,
   "metadata": {},
   "outputs": [],
   "source": [
    "l = @layout grid(2,2,heights=[0.5,0.5,0.5,0.5])\n",
    "Q1=scatter(real(λ_2),imag(λ_2),legend=false,aspect_ratio=:equal,markersize=1,xlabel=\"Real\",ylabel=\"imaginario\",title=\"\\\\gamma=$γ, \\\\Deltat=$(Δt) k0=$(k0)\")\n",
    "Q2=histogram(real(λ_2),normalized=true,title=\"Real\",legend=false,bins=100)\n",
    "Q3=histogram(imag(λ_2),normalized=true,title=\"Imaginario\",legend=false,bins=100)\n",
    "Q4=histogram(angle.(λ_2),normalized=true,bins=60,label=\"Tiempo=$(N)\",title=\"Eigenfase\")\n",
    "plot(Q1,Q2,Q3,Q4,layout=l);\n",
    "savefig(\"Eigenvalores_Completo_2D_gam=$(γ)_k0=$(k0).png\")"
   ]
  },
  {
   "cell_type": "code",
   "execution_count": 24,
   "metadata": {},
   "outputs": [],
   "source": [
    "\n",
    "l = @layout grid(2,2,heights=[0.5,0.5,0.5,0.5])\n",
    "Q1=scatter(real(λ_3),imag(λ_3),legend=false,aspect_ratio=:equal,markersize=1,xlabel=\"Real\",ylabel=\"imaginario\",title=\"\\\\gamma=$γ, \\\\Deltat=$(Δt) k0=$(k0) t0=$(t0)\")\n",
    "Q2=histogram(real(λ_3),normalized=true,title=\"Real\",legend=false,bins=100)\n",
    "Q3=histogram(imag(λ_3),normalized=true,title=\"Imaginario\",legend=false,bins=100)\n",
    "Q4=histogram(angle.(λ_3),normalized=true,bins=60,label=\"Tiempo=$(N)\",title=\"Eigenfase\")\n",
    "plot(Q1,Q2,Q3,Q4,layout=l);\n",
    "savefig(\"Eigenvalores_Completo_3D_gam=$(γ)_k0=$(k0)_t0=$(t0).png\")"
   ]
  },
  {
   "cell_type": "code",
   "execution_count": 22,
   "metadata": {},
   "outputs": [],
   "source": [
    "λ_3_C=lam_eigenvals_C(λ_3)\n",
    "l = @layout grid(2,2,heights=[0.5,0.5,0.5,0.5])\n",
    "Q1=scatter(real(λ_3_C),imag(λ_3_C),legend=false,aspect_ratio=:equal,markersize=1,xlabel=\"Real\",ylabel=\"imaginario\",title=\"\\\\gamma=$γ, \\\\Deltat=$(Δt) k0=$(k0) t0=$(t0)\")\n",
    "Q2=histogram(real(λ_3_C),normalized=true,title=\"Real\",legend=false,bins=100)\n",
    "Q3=histogram(imag(λ_3_C),normalized=true,title=\"Imaginario\",legend=false,bins=100)\n",
    "Q4=histogram(angle.(λ_3_C),normalized=true,bins=60,label=\"Tiempo=$(N)\",title=\"Eigenfase\")\n",
    "plot(Q1,Q2,Q3,Q4,layout=l);\n",
    "savefig(\"Eigenvalores_Completo_3D_Complejo_gam=$(γ)_k0=$(k0)_t0=$(t0).png\")"
   ]
  },
  {
   "cell_type": "code",
   "execution_count": null,
   "metadata": {},
   "outputs": [],
   "source": [
    "λ_3_R=lam_eigenvals_R(λ_3)\n",
    "l = @layout grid(2,2,heights=[0.5,0.5,0.5,0.5])\n",
    "Q1=scatter(real(λ_3_R),imag(λ_3_R),legend=false,aspect_ratio=:equal,markersize=1,xlabel=\"Real\",ylabel=\"imaginario\",title=\"\\\\gamma=$γ, \\\\Deltat=$(Δt) k0=$(k0) t0=$(t0)\")\n",
    "Q2=histogram(real(λ_3_R),normalized=true,title=\"Real\",legend=false,bins=100)\n",
    "Q3=histogram(imag(λ_3_R),normalized=true,title=\"Imaginario\",legend=false,bins=100)\n",
    "Q4=histogram(angle.(λ_3_R),normalized=true,bins=60,label=\"Tiempo=$(N)\",title=\"Eigenfase\")\n",
    "plot(Q1,Q2,Q3,Q4,layout=l);\n",
    "savefig(\"Eigenvalores_Completo_3D_Reales_gam=$(γ)_k0=$(k0)_t0=$(t0).png\")"
   ]
  },
  {
   "cell_type": "code",
   "execution_count": null,
   "metadata": {},
   "outputs": [],
   "source": [
    "lam_eigenvals(γ,Δt,t,tiradas,k0)"
   ]
  },
  {
   "cell_type": "code",
   "execution_count": null,
   "metadata": {},
   "outputs": [],
   "source": [
    "@time begin    \n",
    "    anim= @animate for j=2:step:length(t)\n",
    "        λ=lam_eigenvals(γ,Δt,t[1:j],tiradas,k0);\n",
    "        l = @layout grid(2,2,heights=[0.5,0.5,0.5,0.5])\n",
    "        Q3=histogram(imag(λ),normalized=true,title=\"Imaginario\",legend=false,bins=100,xlims=(-1.1,1.1),ylims=(0,15.5))\n",
    "        Q2=histogram(real(λ),normalized=true,title=\"Real\",legend=false,bins=100,xlims=(-1.1,1.1),ylims=(0,12.2))\n",
    "        Q1=scatter(real(λ),imag(λ),legend=false,aspect_ratio=:equal,markersize=1,xlabel=\"Real\",ylabel=\"imaginario\",title=\"\\\\gamma=$γ, \\\\Deltat=$(Δt) x0=$(x0)\",xlims=(-1.1,1.1),ylims=(-1.1,1.1))\n",
    "        #Q4=histogram(abs.(λ),normalized=true,bins=60,label=\"Tiempo=$(t[j])\",title=\"Norma\",xlims=(1.000,1.0034))\n",
    "        Q4=histogram(angle.(λ),normalized=true,bins=60,label=\"Tiempo=$(t[j])\",title=\"Eigenfase\",xlims=(-(π+0.2),π+0.2),ylims=(0,1.5))\n",
    "        plot(Q1,Q2,Q3,Q4,layout=l)\n",
    "    end\n",
    "    gif(anim,\"./Animacion_Prueba_2D_k0=$(k0).gif\", fps=120)\n",
    "end"
   ]
  },
  {
   "cell_type": "code",
   "execution_count": null,
   "metadata": {},
   "outputs": [],
   "source": [
    "@time begin    \n",
    "    anim= @animate for j=2:step:length(t)\n",
    "        λ=lam_eigenvals_C(lam_eigenvals(γ,Δt,t[1:j],tiradas,k0,t0));\n",
    "        l = @layout grid(2,2,heights=[0.5,0.5,0.5,0.5])\n",
    "        Q3=histogram(imag(λ),normalized=true,title=\"Imaginario\",legend=false,bins=100,xlims=(-1.1,1.1),ylims=(0,15.5))\n",
    "        Q2=histogram(real(λ),normalized=true,title=\"Real\",legend=false,bins=100,xlims=(-1.1,1.1),ylims=(0,12.2))\n",
    "        Q1=scatter(real(λ),imag(λ),legend=false,aspect_ratio=:equal,markersize=1,xlabel=\"Real\",ylabel=\"imaginario\",title=\"\\\\gamma=$γ, \\\\Deltat=$(Δt) x0=$(x0)\",xlims=(-1.1,1.1),ylims=(-1.1,1.1))\n",
    "        #Q4=histogram(abs.(λ),normalized=true,bins=60,label=\"Tiempo=$(t[j])\",title=\"Norma\",xlims=(1.000,1.0034))\n",
    "        Q4=histogram(angle.(λ),normalized=true,bins=60,label=\"Tiempo=$(t[j])\",title=\"Eigenfase\",xlims=(-(π+0.2),π+0.2),ylims=(0,1.5))\n",
    "        plot(Q1,Q2,Q3,Q4,layout=l)\n",
    "    end\n",
    "    gif(anim,\"./Animacion_Prueba_3D_gam=$(γ)_k0=$(k0)_t0=$(t0)_no_reals.gif\", fps=120)\n",
    "end"
   ]
  },
  {
   "cell_type": "code",
   "execution_count": null,
   "metadata": {},
   "outputs": [],
   "source": []
  }
 ],
 "metadata": {
  "kernelspec": {
   "display_name": "Julia 1.3.1",
   "language": "julia",
   "name": "julia-1.3"
  },
  "language_info": {
   "file_extension": ".jl",
   "mimetype": "application/julia",
   "name": "julia",
   "version": "1.3.1"
  }
 },
 "nbformat": 4,
 "nbformat_minor": 2
}
