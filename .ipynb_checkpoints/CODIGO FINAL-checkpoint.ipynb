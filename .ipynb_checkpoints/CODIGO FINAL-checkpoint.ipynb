{
 "cells": [
  {
   "cell_type": "code",
   "execution_count": 16,
   "metadata": {
    "scrolled": true
   },
   "outputs": [
    {
     "name": "stderr",
     "output_type": "stream",
     "text": [
      "┌ Info: Precompiling Alert [28312eec-4d86-447d-83ad-bc2b262de792]\n",
      "└ @ Base loading.jl:1273\n"
     ]
    }
   ],
   "source": [
    "using LinearAlgebra  #####Son las paqueterias que uso, para instalar una paqueteria basta colocar Pkg.add(\"Nombre_de_la_paqueteria\")\n",
    "using Plots\n",
    "using SpecialFunctions: gamma\n",
    "using Random, Distributions\n",
    "using StatsBase\n",
    "using Alert"
   ]
  },
  {
   "cell_type": "code",
   "execution_count": 17,
   "metadata": {},
   "outputs": [
    {
     "data": {
      "text/plain": [
       "OUH (generic function with 2 methods)"
      ]
     },
     "execution_count": 17,
     "metadata": {},
     "output_type": "execute_result"
    }
   ],
   "source": [
    "function OUH(x0::Float64,γ::Float64,t::AbstractArray,Δt::Float64,η::Float64,cte::Float64=0.0) #Proceso de Ornstein–Uhlenbeck\n",
    "    x=Vector{Float64}(undef, length(t)) #Definimos un vector lleno de basura para luego sobre escribir en el \n",
    "    x[1]=x0    #La primera entrada es la condicion inicial del Proceso de Ornstein–Uhlenbeck\n",
    "    \n",
    "    for i=1:length(t)                 #Usamos un for para poder hacer el proceso\n",
    "        x0=x0-γ*Δt*(x0-cte)+(η*sqrt(Δt)*randn()) # Es el proceso de Ornstein–Uhlenbeck que depende del paso anterior \n",
    "        @inbounds x[1+i]=x0                 #@inbounds ignora si la lista tiene el tamaño adecuado y sobreescribimos en la lista basura\n",
    "    end\n",
    "    return x                          # Devolvemos la caminata de Ornstein–Uhlenbeck\n",
    "end"
   ]
  },
  {
   "cell_type": "code",
   "execution_count": 18,
   "metadata": {},
   "outputs": [
    {
     "data": {
      "text/plain": [
       "eigenR (generic function with 1 method)"
      ]
     },
     "execution_count": 18,
     "metadata": {},
     "output_type": "execute_result"
    }
   ],
   "source": [
    "function eigenR(n::Int64,Δt::Float64,K::Array{Float64,1},T::Array{Float64,1}) \n",
    "    R=diagm(0 =>ones(3)) #Hacemos una matriz llena de unos en la diagonal de dimension 2\n",
    "    for i=1:n            #Hacemos un for donde n es la cantidad de pasos de t, pasos de tiempo\n",
    "       R=(diagm(0 => ones(3))+diagm(1 => [K[i],T[i]]*Δt,-1 => -[K[i],T[i]]*Δt)+(0.5*diagm(1 => [K[i],T[i]]*Δt,-1 => -[K[i],T[i]]*Δt)^2))*R #Hacemos los pasos de multiplicar la matriz por la matriz anterior \n",
    "    end\n",
    "    R #Obtenemos el eigenvalor y eigenvector\n",
    "end"
   ]
  },
  {
   "cell_type": "code",
   "execution_count": 300,
   "metadata": {},
   "outputs": [
    {
     "data": {
      "text/plain": [
       "wnz (generic function with 1 method)"
      ]
     },
     "execution_count": 300,
     "metadata": {},
     "output_type": "execute_result"
    }
   ],
   "source": [
    "U(K::Float64,T::Float64)=[T/sqrt(K^2+T^2),0,K/sqrt(K^2+T^2)]\n",
    "ϕ(K::Float64,T::Float64,Δt::Float64)=Δt*sqrt(K^2+T^2)\n",
    "\n",
    "cos_2(x)=1-x^2/8\n",
    "ψ0(ϕ0,ϕ1,u,w)=2*acos(cos(ϕ1/2)*cos(ϕ0/2)-sin(ϕ1/2)*sin(ϕ0/2)*dot(u,w))\n",
    "w1x(ϕ0,ϕ1,u,w,ψ0)=(cos(ϕ1/2)*sin(ϕ0/2)*w[1]+cos(ϕ0/2)*sin(ϕ1/2)*u[1])*csc(ψ0/2)\n",
    "w1y(ϕ0,ϕ1,u,w,ψ0)=((u[3]*w[1]-w[3]*u[1])*sin(ϕ1/2)*sin(ϕ0/2))*csc(ψ0/2)\n",
    "w1z(ϕ0,ϕ1,u,w,ψ0)=(cos(ϕ1/2)*sin(ϕ0/2)*w[3]+cos(ϕ0/2)*sin(ϕ1/2)*u[3])*csc(ψ0/2)\n",
    "\n",
    "\n",
    "ψn(ϕ0,ϕ1,u,w)=2*acos(cos(ϕ1/2)*cos(ϕ0/2)-sin(ϕ1/2)*sin(ϕ0/2)*dot(u,w))\n",
    "wnx(ϕ0,ϕ1,u,w,ψ0)=(cos(ϕ1/2)*sin(ϕ0/2)*w[1]+cos(ϕ0/2)*sin(ϕ1/2)*u[1]-(w[2]*u[3])*sin(ϕ0/2)*sin(ϕ1/2))*csc(ψ0/2)\n",
    "wny(ϕ0,ϕ1,u,w,ψ0)=(cos(ϕ1/2)*sin(ϕ0/2)*w[2]+(u[3]*w[1]-w[3]*u[1])*sin(ϕ1/2)*sin(ϕ0/2))*csc(ψ0/2)\n",
    "wnz(ϕ0,ϕ1,u,w,ψ0)=(cos(ϕ1/2)*sin(ϕ0/2)*w[3]+cos(ϕ0/2)*sin(ϕ1/2)*u[3]+(w[2]*u[1])*sin(ϕ0/2)*sin(ϕ1/2))*csc(ψ0/2)\n"
   ]
  },
  {
   "cell_type": "code",
   "execution_count": 301,
   "metadata": {},
   "outputs": [
    {
     "data": {
      "text/plain": [
       "MatRot (generic function with 1 method)"
      ]
     },
     "execution_count": 301,
     "metadata": {},
     "output_type": "execute_result"
    }
   ],
   "source": [
    "MatRot(ω,Ψ)=[ cos(Ψ)+ω[1]^2*(1-cos(Ψ)) ω[1]*ω[2]*(1-cos(Ψ))-ω[3]*sin(Ψ) ω[1]*ω[3]*(1-cos(Ψ))+ω[2]*sin(Ψ);\n",
    "                ω[2]*ω[1]*(1-cos(Ψ))+ω[3]*sin(Ψ) cos(Ψ)+ω[2]^2*(1-cos(Ψ)) ω[2]*ω[3]*(1-cos(Ψ))-ω[1]*sin(Ψ);\n",
    "                    ω[3]*ω[1]*(1-cos(Ψ))-ω[2]*sin(Ψ) ω[3]*ω[2]*(1-cos(Ψ))+ω[1]*sin(Ψ) cos(Ψ)+ω[3]^2*(1-cos(Ψ))]"
   ]
  },
  {
   "cell_type": "code",
   "execution_count": 302,
   "metadata": {},
   "outputs": [
    {
     "data": {
      "text/plain": [
       "Trayectoria (generic function with 1 method)"
      ]
     },
     "execution_count": 302,
     "metadata": {},
     "output_type": "execute_result"
    }
   ],
   "source": [
    "function Trayectoria(Δt::Float64,t::AbstractArray,ω::Array{Array{Float64,1},1},Ψ::Array{Float64,1})\n",
    "    #T=ones(2001)*5\n",
    "    #K=ones(2001)*5\n",
    "\n",
    "    #T_v0=(eigen2(2,K,T,Δt).vectors)[:,1]      #Es el vector tangente inicial\n",
    "    #N_v0=(eigen2(2,K,T,Δt).vectors)[:,2]*im   #Es el vector tangente inicial\n",
    "    #B_v0=(eigen2(2,K,T,Δt).vectors)[:,3]      #Es el vector tangente inicial\n",
    "    T_v0=[1.0,0.0,0.0]     #Es el vector tangente inicial\n",
    "    N_v0=[0.0,1.0,0.0]   #Es el vector tangente inicial\n",
    "    B_v0=[0.0,0.0,1.0]      #Es el vector tangente inicial\n",
    "    ##########################################\n",
    "    T_v=Array{Float64,1}[]       #Lista vacia para todos los vectores tangentes\n",
    "    N_v=Array{Float64,1}[]       #Lista vacia para todos los vectores tangentes\n",
    "    B_v=Array{Float64,1}[]       #Lista vacia para todos los vectores tangentes\n",
    "    for i=1:length(t)                 #For que dura todos los pasos de tiempo\n",
    "        T_v1=MatRot(ω[i],Ψ[i])*T_v0      #Genera todos los vecotres tangentes a partir del inicial\n",
    "        N_v1=MatRot(ω[i],Ψ[i])*N_v0      #Genera todos los vecotres tangentes a partir del inicial\n",
    "        B_v1=MatRot(ω[i],Ψ[i])*B_v0      #Genera todos los vecotres tangentes a partir del inicial\n",
    "        push!(T_v,real(T_v1))    #Coloca los vectores tangentes en una lista\n",
    "        push!(N_v,real(N_v1))    #Coloca los vectores tangentes en una lista\n",
    "        push!(B_v,real(B_v1))    #Coloca los vectores tangentes en una lista\n",
    "    end\n",
    "    T_v=transpose(hcat(T_v...))     #Transforma T en algo mejor\n",
    "    N_v=transpose(hcat(N_v...))     #Transforma N en algo mejor\n",
    "    B_v=transpose(hcat(B_v...))     #Transforma B en algo mejor\n",
    "    ##########################################\n",
    "    Tx=T_v[:,1]\n",
    "    Ty=T_v[:,2]\n",
    "    Tz=T_v[:,3]\n",
    "    ##########################################\n",
    "    rx=Float64[]\n",
    "    ry=Float64[]\n",
    "    rz=Float64[]\n",
    "    r1x=0.0\n",
    "    r1y=0.0\n",
    "    r1z=0.0\n",
    "    for i=1:length(t)\n",
    "        r1x=Tx[i]*Δt+r1x\n",
    "        r1y=Ty[i]*Δt+r1y\n",
    "        r1z=Tz[i]*Δt+r1z\n",
    "        push!(rx,r1x)\n",
    "        push!(ry,r1y)\n",
    "        push!(rz,r1z)\n",
    "    end\n",
    "    r=[rx,ry,rz]\n",
    "    T=[Tx,Ty,Tz]\n",
    "    N=[N_v[:,1],N_v[:,2],N_v[:,3]]\n",
    "    B=[B_v[:,1],B_v[:,2],B_v[:,3]]\n",
    "    return r,T,N,B\n",
    "end\n",
    "\n"
   ]
  },
  {
   "cell_type": "code",
   "execution_count": 367,
   "metadata": {},
   "outputs": [
    {
     "data": {
      "text/plain": [
       "2.0"
      ]
     },
     "execution_count": 367,
     "metadata": {},
     "output_type": "execute_result"
    }
   ],
   "source": [
    "k0=0.01\n",
    "t0=0.01\n",
    "\n",
    "γK=5.0\n",
    "γT=1.0\n",
    "\n",
    "ηK=5.0\n",
    "ηT=5.0\n",
    "\n",
    "N=5.0\n",
    "\n",
    "Δt=0.001\n",
    "\n",
    "t=0:Δt:N\n",
    "\n",
    "ctek=10.0\n",
    "ctet=2.0\n"
   ]
  },
  {
   "cell_type": "code",
   "execution_count": 502,
   "metadata": {},
   "outputs": [],
   "source": [
    "K=OUH(k0,γK,t,Δt,ηK,ctek)\n",
    "T=OUH(t0,γT,t,Δt,ηT,ctet)\n",
    "plot(t,K,legend=false)\n",
    "plot!(t,T,legend=false);"
   ]
  },
  {
   "cell_type": "code",
   "execution_count": 369,
   "metadata": {},
   "outputs": [
    {
     "data": {
      "text/plain": [
       "Trayectoria_qua (generic function with 1 method)"
      ]
     },
     "execution_count": 369,
     "metadata": {},
     "output_type": "execute_result"
    }
   ],
   "source": [
    "function Trayectoria_qua(K::AbstractArray,T::AbstractArray,t::AbstractArray,Δt::Float64)\n",
    "    Un=U.(K,T)\n",
    "    ϕn=ϕ.(K,T,Δt)\n",
    "    PASO=length(t)\n",
    "\n",
    "    ω=Array{Array{Float64,1},1}(undef,PASO)\n",
    "    Ψ=Array{Float64,1}(undef,PASO)\n",
    "    ω[1]=Un[1]\n",
    "    Ψ[1]=ϕn[1]\n",
    "\n",
    "    ψ1=ψ0(ϕn[1],ϕn[2],Un[1],Un[2])\n",
    "    w=[w1x(ϕn[1],ϕn[2],Un[2],Un[1],ψ1),\n",
    "        w1y(ϕn[1],ϕn[2],Un[2],Un[1],ψ1),\n",
    "        w1z(ϕn[1],ϕn[2],Un[2],Un[1],ψ1)];\n",
    "    ω[2]=w\n",
    "    Ψ[2]=ψ1\n",
    "    for i=3:PASO\n",
    "        ψ=ψn(ψ1,ϕn[i],Un[i],w)\n",
    "        w=[wnx(ψ1,ϕn[i],Un[i],w,ψ),wny(ψ1,ϕn[i],Un[i],w,ψ),wnz(ψ1,ϕn[i],Un[i],w,ψ)]\n",
    "        ω[i]=w\n",
    "        Ψ[i]=ψ1\n",
    "        ψ1=ψ\n",
    "    end\n",
    "    \n",
    "    r,Tm,Nm,Bm=Trayectoria(Δt,t,ω,Ψ)\n",
    "    \n",
    "    return r,Tm,Nm,Bm\n",
    "end"
   ]
  },
  {
   "cell_type": "code",
   "execution_count": 370,
   "metadata": {},
   "outputs": [
    {
     "name": "stdout",
     "output_type": "stream",
     "text": [
      "  0.243790 seconds (349.28 k allocations: 14.053 MiB)\n"
     ]
    }
   ],
   "source": [
    "@time r,Tm,Nm,Bm=Trayectoria_qua(K,T,t,Δt);"
   ]
  },
  {
   "cell_type": "code",
   "execution_count": 379,
   "metadata": {},
   "outputs": [],
   "source": [
    "l = @layout grid(2,2,heights=[0.5,0.5,0.5,0.5])\n",
    "P1=plot(r[1],r[2],r[3], legend=false,title=\"3D\",aspect_ratio=:equal)\n",
    "P2=plot(r[1],r[2],legend=false,title=\"XY\")\n",
    "P3=plot(r[1],r[3],legend=false,title=\"XZ\")\n",
    "P4=plot(r[2],r[3],legend=false,title=\"YZ\")\n",
    "plot(P1,P2,P3,P4,layout=l)\n",
    "savefig(\"./Trayectorias_3D/Trayectoria_3D_gamK=$(γK)_gam=$(γT)_etaK=$(ηK)_etaT=$(ηT)_k0=$(k0)_t0=$(t0)_ck=_$(ctek)ct=$(ctet).png\")"
   ]
  },
  {
   "cell_type": "code",
   "execution_count": 375,
   "metadata": {},
   "outputs": [],
   "source": [
    "plot(Tm[1],Tm[2],Tm[3], legend=false)\n",
    "l = @layout grid(2,2,heights=[0.5,0.5,0.5,0.5])\n",
    "P1=plot(Tm[1],Tm[2],Tm[3], legend=false,title=\"3D\",aspect_ratio=:equal)\n",
    "P2=plot(Tm[1],Tm[2],legend=false,title=\"XY\",aspect_ratio=:equal)\n",
    "P3=plot(Tm[1],Tm[3],legend=false,title=\"XZ\",aspect_ratio=:equal)\n",
    "P4=plot(Tm[2],Tm[3],legend=false,title=\"YZ\",aspect_ratio=:equal)\n",
    "plot(P1,P2,P3,P4,layout=l);"
   ]
  },
  {
   "cell_type": "code",
   "execution_count": 376,
   "metadata": {},
   "outputs": [],
   "source": [
    "l = @layout grid(2,2,heights=[0.5,0.5,0.5,0.5])\n",
    "P1=plot(Nm[1],Nm[2],Nm[3], legend=false,title=\"3D\",aspect_ratio=:equal)\n",
    "P2=plot(Nm[1],Nm[2],legend=false,title=\"XY\",aspect_ratio=:equal)\n",
    "P3=plot(Nm[1],Nm[3],legend=false,title=\"XZ\",aspect_ratio=:equal)\n",
    "P4=plot(Nm[2],Nm[3],legend=false,title=\"YZ\",aspect_ratio=:equal)\n",
    "plot(P1,P2,P3,P4,layout=l);\n"
   ]
  },
  {
   "cell_type": "code",
   "execution_count": 377,
   "metadata": {},
   "outputs": [],
   "source": [
    "l = @layout grid(2,2,heights=[0.5,0.5,0.5,0.5])\n",
    "P1=plot(Bm[1],Bm[2],Bm[3], legend=false,title=\"3D\",aspect_ratio=:equal)\n",
    "P2=plot(Bm[1],Bm[2],legend=false,title=\"XY\",aspect_ratio=:equal)\n",
    "P3=plot(Bm[1],Bm[3],legend=false,title=\"XZ\",aspect_ratio=:equal)\n",
    "P4=plot(Bm[2],Bm[3],legend=false,title=\"YZ\",aspect_ratio=:equal)\n",
    "plot(P1,P2,P3,P4,layout=l);"
   ]
  },
  {
   "cell_type": "code",
   "execution_count": 446,
   "metadata": {},
   "outputs": [
    {
     "data": {
      "text/plain": [
       "eigenf (generic function with 1 method)"
      ]
     },
     "execution_count": 446,
     "metadata": {},
     "output_type": "execute_result"
    }
   ],
   "source": [
    "function eigenf(tiradas::Int64,PASO::Int64)\n",
    "\n",
    "\n",
    "    θ=Array{Float64,1}(undef,tiradas)\n",
    "\n",
    "    for j=1:tiradas\n",
    "\n",
    "        K=OUH(k0,γK,t[1:PASO],Δt,ηK,ctek)\n",
    "        T=OUH(t0,γT,t[1:PASO],Δt,ηT,ctet)\n",
    "\n",
    "        Un=U.(K,T)\n",
    "        ϕn=ϕ.(K,T,Δt)\n",
    "\n",
    "        ω=Array{Array{Float64,1},1}(undef,PASO)\n",
    "        Ψ=Array{Float64,1}(undef,PASO)\n",
    "        ω[1]=Un[1]\n",
    "        Ψ[1]=ϕn[1]\n",
    "\n",
    "        ψ1=ψ0(ϕn[1],ϕn[2],Un[1],Un[2])\n",
    "        w=[w1x(ϕn[1],ϕn[2],Un[2],Un[1],ψ1),\n",
    "            w1y(ϕn[1],ϕn[2],Un[2],Un[1],ψ1),\n",
    "            w1z(ϕn[1],ϕn[2],Un[2],Un[1],ψ1)];\n",
    "        ω[2]=w\n",
    "        Ψ[2]=ψ1\n",
    "        for i=3:PASO\n",
    "            ψ=ψn(ψ1,ϕn[i],Un[i],w)\n",
    "            w=[wnx(ψ1,ϕn[i],Un[i],w,ψ),wny(ψ1,ϕn[i],Un[i],w,ψ),wnz(ψ1,ϕn[i],Un[i],w,ψ)]\n",
    "            ω[i]=w\n",
    "            Ψ[i]=ψ1\n",
    "            ψ1=ψ\n",
    "        end\n",
    "        θ[j]=Ψ[end]\n",
    "    end\n",
    "    return θ\n",
    "end"
   ]
  },
  {
   "cell_type": "code",
   "execution_count": 490,
   "metadata": {},
   "outputs": [
    {
     "data": {
      "text/plain": [
       "5001"
      ]
     },
     "execution_count": 490,
     "metadata": {},
     "output_type": "execute_result"
    }
   ],
   "source": [
    "tiradas=1000\n",
    "PASO=5001\n"
   ]
  },
  {
   "cell_type": "code",
   "execution_count": 491,
   "metadata": {},
   "outputs": [
    {
     "name": "stdout",
     "output_type": "stream",
     "text": [
      " 23.184193 seconds (106.97 M allocations: 2.936 GiB, 2.49% gc time)\n"
     ]
    },
    {
     "data": {
      "text/plain": [
       "1000-element Array{Float64,1}:\n",
       " 1.6350393621391375\n",
       " 0.8976132991057358\n",
       " 2.6234537953429387\n",
       " 3.1677002391996782\n",
       " 1.5203088852562778\n",
       " 0.6144237878570468\n",
       " 5.31830065676171  \n",
       " 3.3880415333472556\n",
       " 3.0202971704032815\n",
       " 3.2329234009593804\n",
       " 3.313315917157035 \n",
       " 2.6425403382878403\n",
       " 0.6786500803561667\n",
       " ⋮                 \n",
       " 2.764951380407177 \n",
       " 1.7220711557522341\n",
       " 4.448163165751521 \n",
       " 4.057083327962475 \n",
       " 2.9633000177313296\n",
       " 2.7715313543449303\n",
       " 4.974438701095659 \n",
       " 1.020398079689119 \n",
       " 2.0330446026870366\n",
       " 1.6806429918460748\n",
       " 2.971392317260306 \n",
       " 3.8206982923034283"
      ]
     },
     "execution_count": 491,
     "metadata": {},
     "output_type": "execute_result"
    }
   ],
   "source": [
    "@time θ = eigenf(tiradas,PASO)"
   ]
  },
  {
   "cell_type": "code",
   "execution_count": 498,
   "metadata": {},
   "outputs": [],
   "source": [
    "Sp=vcat(θ,-θ,zeros(length(θ)))\n",
    "histogram(Sp,bins=60);"
   ]
  },
  {
   "cell_type": "code",
   "execution_count": 499,
   "metadata": {},
   "outputs": [],
   "source": [
    "scatter(real(exp.(-im*Sp)),imag(exp.(-im*Sp)),aspect_ratio=:equal);"
   ]
  },
  {
   "cell_type": "code",
   "execution_count": 500,
   "metadata": {},
   "outputs": [],
   "source": [
    "histogram(real(exp.(-im*Sp)),bins=60);"
   ]
  },
  {
   "cell_type": "code",
   "execution_count": 501,
   "metadata": {},
   "outputs": [],
   "source": [
    "histogram(imag(exp.(-im*Sp)),bins=60);"
   ]
  },
  {
   "cell_type": "code",
   "execution_count": null,
   "metadata": {},
   "outputs": [],
   "source": []
  }
 ],
 "metadata": {
  "kernelspec": {
   "display_name": "Julia 1.3.1",
   "language": "julia",
   "name": "julia-1.3"
  },
  "language_info": {
   "file_extension": ".jl",
   "mimetype": "application/julia",
   "name": "julia",
   "version": "1.3.1"
  }
 },
 "nbformat": 4,
 "nbformat_minor": 2
}
