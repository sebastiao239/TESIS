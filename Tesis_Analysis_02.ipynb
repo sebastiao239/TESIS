{
 "cells": [
  {
   "cell_type": "code",
   "execution_count": 1,
   "metadata": {},
   "outputs": [],
   "source": [
    "using LinearAlgebra  #####Son las paqueterias que uso, para instalar una paqueteria basta colocar Pkg.add(\"Nombre_de_la_paqueteria\")\n",
    "using Plots\n",
    "using SpecialFunctions: gamma\n",
    "using Random, Distributions"
   ]
  },
  {
   "cell_type": "code",
   "execution_count": 2,
   "metadata": {},
   "outputs": [
    {
     "data": {
      "text/plain": [
       "OUH (generic function with 2 methods)"
      ]
     },
     "execution_count": 2,
     "metadata": {},
     "output_type": "execute_result"
    }
   ],
   "source": [
    "function OUH(x0::Float64,γ::Float64,t::AbstractArray,Dt::Float64,cte::Float64=0.0) #Proceso de Ornstein–Uhlenbeck\n",
    "    x=Vector{Float64}(undef, length(t)) #Definimos un vector lleno de basura para luego sobre escribir en el \n",
    "    x[1]=x0    #La primera entrada es la condicion inicial del Proceso de Ornstein–Uhlenbeck\n",
    "    \n",
    "    for i=1:length(t)                 #Usamos un for para poder hacer el proceso\n",
    "        x0=x0-(x0*γ)+(Dt*randn())+cte # Es el proceso de Ornstein–Uhlenbeck que depende del paso anterior \n",
    "        @inbounds x[1+i]=x0                 #@inbounds ignora si la lista tiene el tamaño adecuado y sobreescribimos en la lista basura\n",
    "    end\n",
    "    return x                          # Devolvemos la caminata de Ornstein–Uhlenbeck\n",
    "end"
   ]
  },
  {
   "cell_type": "code",
   "execution_count": null,
   "metadata": {},
   "outputs": [],
   "source": [
    "\n"
   ]
  }
 ],
 "metadata": {
  "kernelspec": {
   "display_name": "Julia 1.3.1",
   "language": "julia",
   "name": "julia-1.3"
  },
  "language_info": {
   "file_extension": ".jl",
   "mimetype": "application/julia",
   "name": "julia",
   "version": "1.3.1"
  }
 },
 "nbformat": 4,
 "nbformat_minor": 2
}
