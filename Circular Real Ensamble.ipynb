{
 "cells": [
  {
   "cell_type": "code",
   "execution_count": 1,
   "metadata": {},
   "outputs": [],
   "source": [
    "using LinearAlgebra\n",
    "using Plots"
   ]
  },
  {
   "cell_type": "code",
   "execution_count": 2,
   "metadata": {},
   "outputs": [
    {
     "data": {
      "text/plain": [
       "Harr (generic function with 1 method)"
      ]
     },
     "execution_count": 2,
     "metadata": {},
     "output_type": "execute_result"
    }
   ],
   "source": [
    "function Harr(n)    #Genera Matrices Ortogonales con ayuda de la mdeida de Harr O(n) con entradas imagniarias\n",
    "    z = (randn(n,n) + im*randn(n,n))/sqrt(2.0)\n",
    "    Q,R= qr(z)\n",
    "    d=Diagonal(R)\n",
    "    ph = d/abs.(d)\n",
    "    RR=Q*ph*Q\n",
    "    return RR\n",
    "end"
   ]
  },
  {
   "cell_type": "code",
   "execution_count": 3,
   "metadata": {},
   "outputs": [
    {
     "data": {
      "text/plain": [
       "HarR (generic function with 1 method)"
      ]
     },
     "execution_count": 3,
     "metadata": {},
     "output_type": "execute_result"
    }
   ],
   "source": [
    "function HarR(n) #Genera Matrices Ortogonales con ayuda de la mdeida de Harr O(n) Con entradas reales\n",
    "    z = (randn(n,n))\n",
    "    Q,R= qr(z)\n",
    "    d=Diagonal(R)\n",
    "    ph = d/abs.(d)\n",
    "    RR=Q*ph*Q\n",
    "    return RR\n",
    "end"
   ]
  },
  {
   "cell_type": "code",
   "execution_count": 4,
   "metadata": {},
   "outputs": [
    {
     "data": {
      "text/plain": [
       "lam_eigenvals_C (generic function with 1 method)"
      ]
     },
     "execution_count": 4,
     "metadata": {},
     "output_type": "execute_result"
    }
   ],
   "source": [
    "function lam_eigenvals_C(λ::Array{Complex{Float64},1})\n",
    "    λr=Complex{Float64}[]\n",
    "    for i=1:length(λ)\n",
    "        if imag(λ[i]) != 0\n",
    "            push!(λr,λ[i])\n",
    "        end\n",
    "    end\n",
    "    return λr\n",
    "end"
   ]
  },
  {
   "cell_type": "code",
   "execution_count": null,
   "metadata": {},
   "outputs": [],
   "source": [
    "λ=Complex{Float64}[] #Obteiene los eigenvalores de las matrices aleatorias O(3)\n",
    "for i in 1:100\n",
    "    append!(λ,eigvals(HarR(500)))\n",
    "end"
   ]
  },
  {
   "cell_type": "code",
   "execution_count": null,
   "metadata": {},
   "outputs": [],
   "source": [
    "histogram(angle.(lam_eigenvals_C(λ)),normalized=true,bins=60, xlims=(-π,π)) #Histogrma del angulo de los eigenvalorees de las matrices aleaotrias O(3)"
   ]
  },
  {
   "cell_type": "code",
   "execution_count": null,
   "metadata": {},
   "outputs": [],
   "source": [
    "histogram(angle.(λ),normalized=true,bins=60,, xlims=(-π,π))  #Histogrma del angulo de los eigenvalorees complejos y reales de las matrices aleaotrias O(3)"
   ]
  },
  {
   "cell_type": "code",
   "execution_count": 12,
   "metadata": {},
   "outputs": [
    {
     "data": {
      "text/plain": [
       "100-element Array{Float64,1}:\n",
       " -3.1220486541063024\n",
       " -3.0498055342396255\n",
       " -3.0168759738467865\n",
       " -2.9326336336689685\n",
       " -2.8885549939377975\n",
       " -2.7827664539275423\n",
       " -2.7111182379285466\n",
       " -2.6537961052633623\n",
       " -2.5988756964459387\n",
       " -2.5082746023424547\n",
       " -2.479654026302637 \n",
       " -2.450699303851958 \n",
       " -2.366533064526069 \n",
       "  ⋮                 \n",
       "  2.450699303851958 \n",
       "  2.479654026302637 \n",
       "  2.5082746023424547\n",
       "  2.5988756964459387\n",
       "  2.6537961052633623\n",
       "  2.7111182379285466\n",
       "  2.7827664539275423\n",
       "  2.8885549939377975\n",
       "  2.9326336336689685\n",
       "  3.0168759738467865\n",
       "  3.0498055342396255\n",
       "  3.1220486541063024"
      ]
     },
     "execution_count": 12,
     "metadata": {},
     "output_type": "execute_result"
    }
   ],
   "source": [
    "sort(angle.(λ))"
   ]
  },
  {
   "cell_type": "code",
   "execution_count": 46,
   "metadata": {},
   "outputs": [
    {
     "data": {
      "text/plain": [
       "2×2 Array{Complex{Float64},2}:\n",
       " -0.488608+0.861692im   0.128626-0.0469518im\n",
       "  0.134459+0.0258805im   0.61953+0.772938im "
      ]
     },
     "execution_count": 46,
     "metadata": {},
     "output_type": "execute_result"
    }
   ],
   "source": [
    "Harr(2)"
   ]
  },
  {
   "cell_type": "code",
   "execution_count": null,
   "metadata": {},
   "outputs": [],
   "source": []
  }
 ],
 "metadata": {
  "kernelspec": {
   "display_name": "Julia 1.3.1",
   "language": "julia",
   "name": "julia-1.3"
  },
  "language_info": {
   "file_extension": ".jl",
   "mimetype": "application/julia",
   "name": "julia",
   "version": "1.3.1"
  }
 },
 "nbformat": 4,
 "nbformat_minor": 2
}
